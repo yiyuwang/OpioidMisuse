{
 "cells": [
  {
   "attachments": {},
   "cell_type": "markdown",
   "id": "30bb0166",
   "metadata": {},
   "source": [
    "# Opioid Misuse Prediction Models\n",
    "\n",
    "## preprocessing data (imputation) + data visual check\n",
    "\n",
    "*Yiyu Wang 2024/04/02*"
   ]
  },
  {
   "cell_type": "code",
   "execution_count": null,
   "id": "145e792e",
   "metadata": {},
   "outputs": [],
   "source": [
    "data_dir = '../data/'\n",
    "figures_dir = '../figures/'\n",
    "\n",
    "\n",
    "# use this code to find the abnormal character in the file\n",
    "\n",
    "# # Open the file in binary mode and seek to a position a bit before 74036 to get some context\n",
    "# with open(data_dir + 'M_K23_ML.csv', 'rb') as file:\n",
    "#     file.seek(max(0, 74036 - 100))  # Go back 100 bytes for context, or to the start if too close to the beginning\n",
    "#     data = file.read(200)  # Read enough bytes around the position for context\n",
    "\n",
    "# print(data)"
   ]
  },
  {
   "cell_type": "code",
   "execution_count": null,
   "id": "7e2c9d77",
   "metadata": {},
   "outputs": [],
   "source": [
    "import numpy as np\n",
    "import glob\n",
    "import pandas as pd\n",
    "import seaborn as sns\n",
    "import matplotlib.pyplot as plt\n",
    "\n",
    "# make some descriptive statistics\n",
    "raw_df = pd.read_csv(data_dir + 'M_K23_ML.csv', index_col=0)\n",
    "\n",
    "        \n",
    "variables_df = pd.read_csv(data_dir + 'Variable_Name.csv', index_col=0)\n",
    "\n",
    "variables_to_keep = variables_df.loc[variables_df['Include'] == 'X'].index.tolist()\n",
    "print(variables_to_keep)\n",
    "\n",
    "df = raw_df[variables_to_keep]\n",
    "\n",
    "# recode ethnicity with one-hot encoding with 1 and 0\n",
    "df = pd.get_dummies(df, columns=['demo_ethnicity'],dtype='int')\n",
    "\n",
    "\n",
    "# recode gender such that if 99, then 4, else keep the same\n",
    "df = pd.get_dummies(df, columns=['demo_gender'],dtype='int')\n",
    "\n",
    "\n",
    "df.columns"
   ]
  },
  {
   "cell_type": "code",
   "execution_count": null,
   "id": "011bb8e3-282c-4d0c-8b2f-5b45e393e078",
   "metadata": {},
   "outputs": [],
   "source": [
    "\n",
    "# recode mh_psychological_yes such that if any entry of a text, then 1, else 0\n",
    "df[\"mh_psychological_yes_binary\"] = np.where(pd.isna(df[\"mh_psychological_yes\"]), 1, 0)\n",
    "print(np.unique(df[\"mh_psychological_yes_binary\"]))\n",
    "\n",
    "df = df.drop(columns=[\"mh_psychological_yes\"])\n",
    "# convert df to numeric\n",
    "df = df.apply(pd.to_numeric, errors='coerce')\n",
    "    \n",
    "\n",
    "print(df.columns)\n",
    "print(len(df.columns))\n",
    "df.to_csv(data_dir + 'M_K23_ML_reduced.csv')\n",
    "df.head()\n"
   ]
  },
  {
   "cell_type": "code",
   "execution_count": null,
   "id": "487fe1b3",
   "metadata": {},
   "outputs": [],
   "source": [
    "# data descriptives:\n",
    "\n",
    "# check missing data\n",
    "N = len(df)\n",
    "print(f'Total sample N: {N}')\n",
    "\n",
    "\n",
    "print('mean age = ', df['k23_age'].mean())\n",
    "print('std age = ', df['k23_age'].std())\n",
    "\n"
   ]
  },
  {
   "cell_type": "code",
   "execution_count": null,
   "id": "48bb83c1",
   "metadata": {},
   "outputs": [],
   "source": [
    "# check missing data\n",
    "N = len(df)\n",
    "print(f'Total sample N: {N}')\n",
    "\n",
    "\n",
    "for column, n_miss in df.isnull().sum().to_dict().items():\n",
    "    if n_miss > 0:\n",
    "        print(f'{column}: {n_miss}')"
   ]
  },
  {
   "cell_type": "code",
   "execution_count": null,
   "id": "d2a64f7c",
   "metadata": {},
   "outputs": [],
   "source": [
    "# impute with population mean\n",
    "imputed_df = df.fillna(df.mean())\n",
    "\n",
    "imputed_df.to_csv(data_dir + 'M_K23_ML_reduced_imputed.csv')"
   ]
  },
  {
   "cell_type": "markdown",
   "id": "e4da8845",
   "metadata": {},
   "source": [
    "##  data visualization"
   ]
  },
  {
   "cell_type": "code",
   "execution_count": null,
   "id": "c412c651",
   "metadata": {},
   "outputs": [],
   "source": [
    "# plot covariances for df1\n",
    "\n",
    "# Compute the correlation matrix\n",
    "cov_matrix = df.corr()\n",
    "\n",
    "# Create a mask for the upper triangle\n",
    "mask = np.triu(np.ones_like(cov_matrix, dtype=bool))\n",
    "\n",
    "# Set up the matplotlib figure\n",
    "plt.figure(figsize=(10, 8))\n",
    "\n",
    "# Draw the heatmap with the mask and correct aspect ratio\n",
    "sns.heatmap(cov_matrix, mask=mask, cmap='coolwarm', vmax = 1, center=0,\n",
    "            square=True, linewidths=.5,  annot=False)\n",
    "\n",
    "# Show the plot with only the lower triangle and a colorbar\n",
    "plt.show()\n"
   ]
  },
  {
   "cell_type": "code",
   "execution_count": null,
   "id": "d37e06bb",
   "metadata": {},
   "outputs": [],
   "source": [
    "# Set the number of rows and columns for the subplots\n",
    "num_rows = 11\n",
    "num_cols = 6\n",
    "\n",
    "# Create the subplots\n",
    "fig, axes = plt.subplots(num_rows, num_cols, figsize=(14, 20))\n",
    "\n",
    "# Flatten the axes array\n",
    "axes = axes.flatten()\n",
    "\n",
    "# Plot the histograms for shared columns\n",
    "for i, column in enumerate(df.columns):\n",
    "    ax = axes[i]\n",
    "    ax.hist(df[column], bins=30, alpha=0.5, label='df1')\n",
    "    ax.axvline(df[column].mean(), color='b', linestyle='dashed', linewidth=1, label='df mean')\n",
    "    # ax.set_xlabel(column)\n",
    "    ax.title.set_text(column)\n",
    "    if i % num_cols == 0:\n",
    "        ax.set_ylabel('Frequency')\n",
    "\n",
    "# Remove axis on empty subplots\n",
    "for j in range(len(df.columns), num_rows * num_cols):\n",
    "    axes[j].axis('off')\n",
    "\n",
    "# Adjust the spacing between subplots\n",
    "plt.subplots_adjust(hspace=0.5)\n",
    "\n",
    "\n",
    "# Show the plot\n",
    "plt.show()\n",
    "\n",
    "\n",
    "# save the plot\n",
    "plt.savefig(figures_dir + 'factor_distribution_by_dataset.png')\n",
    "\n",
    "\n",
    "\n"
   ]
  },
  {
   "cell_type": "code",
   "execution_count": null,
   "id": "6e0cf71d",
   "metadata": {},
   "outputs": [],
   "source": [
    "df1"
   ]
  },
  {
   "cell_type": "code",
   "execution_count": null,
   "id": "68f24337",
   "metadata": {},
   "outputs": [],
   "source": [
    "# Set the number of rows and columns for the subplots\n",
    "num_rows = 11\n",
    "num_cols = 6\n",
    "\n",
    "# Create the subplots\n",
    "fig, axes = plt.subplots(num_rows, num_cols, figsize=(18, 16))\n",
    "\n",
    "# Flatten the axes array\n",
    "axes = axes.flatten()\n",
    "new_df = df.reset_index()\n",
    "df1 = new_df[new_df['record_id'].str.contains('A')]\n",
    "df2 = new_df[new_df['record_id'].str.contains('B')]\n",
    "df3 = new_df[new_df['record_id'].str.contains('C')]\n",
    "df1 = df1.reset_index().drop(columns=['record_id'])\n",
    "df2 =df2.reset_index().drop(columns=['record_id'])\n",
    "df3 =df3.reset_index().drop(columns=['record_id'])\n",
    "# Plot the histograms for shared columns\n",
    "for i, column in enumerate(df1.columns):\n",
    "    \n",
    "    ax = axes[i]\n",
    "    ax.hist(df1[column], bins=30, alpha=0.5, label='df A')\n",
    "    ax.hist(df2[column], bins=30, alpha=0.5, label='df B')\n",
    "    ax.hist(df3[column], bins=30, alpha=0.5, label='df C')\n",
    "    ax.axvline(df1[column].mean(), color='b', linestyle='dashed', linewidth=1, label='df A mean')\n",
    "    ax.axvline(df2[column].mean(), color='orange', linestyle='dashed', linewidth=1, label='df B mean')\n",
    "    ax.axvline(df3[column].mean(), color='green', linestyle='dashed', linewidth=1, label='df C mean')\n",
    "    # ax.set_xlabel(column)\n",
    "    ax.title.set_text(column)\n",
    "    if i % num_cols == 0:\n",
    "        ax.set_ylabel('Frequency')\n",
    "\n",
    "# Remove axis on empty subplots\n",
    "for j in range(len(df1.columns), num_rows * num_cols):\n",
    "    axes[j].axis('off')\n",
    "\n",
    "# Adjust the spacing between subplots\n",
    "plt.subplots_adjust(hspace=0.5)\n",
    "\n",
    "# Show the legend\n",
    "handles, labels = ax.get_legend_handles_labels()\n",
    "labels = ['df A', 'df B', 'df C', 'A mean', 'B mean', 'C mean']\n",
    "legend_loc = (0.87, 0.05)\n",
    "fig.legend(handles, labels, loc=legend_loc, ncol=1)\n",
    "\n",
    "# Show the plot\n",
    "plt.show()\n",
    "\n",
    "\n",
    "# save the plot\n",
    "plt.savefig(figures_dir + 'factor_distribution_by_dataset.png')\n",
    "\n",
    "\n",
    "\n"
   ]
  },
  {
   "cell_type": "code",
   "execution_count": null,
   "id": "39d3d632",
   "metadata": {},
   "outputs": [],
   "source": [
    "# create train, test, validation split based on A, B, C in the record_id\n",
    "new_df['cohort'] = 'train'\n",
    "new_df.loc[new_df['record_id'].str.contains('A'), 'cohort'] = 'train'\n",
    "new_df.loc[new_df['record_id'].str.contains('B'), 'cohort'] = 'test'\n",
    "new_df.loc[new_df['record_id'].str.contains('C'), 'cohort'] = 'validation'\n",
    "\n",
    "\n",
    "new_df.to_csv(data_dir + 'M_K23_ML_split.csv', index=False)"
   ]
  },
  {
   "cell_type": "markdown",
   "id": "6869f8c7",
   "metadata": {},
   "source": [
    "# df with collapsed demographic factors"
   ]
  },
  {
   "cell_type": "code",
   "execution_count": null,
   "id": "5817bfde",
   "metadata": {},
   "outputs": [],
   "source": [
    "# rename and collapse columns\n",
    "df = pd.read_csv(data_dir + 'M_K23_ML_reduced_imputed.csv')\n",
    "df"
   ]
  },
  {
   "cell_type": "code",
   "execution_count": null,
   "id": "a3779934",
   "metadata": {},
   "outputs": [],
   "source": [
    "raw_PREDICTOR_COLUMNS=['k23_age', 'demo_hispanic', 'demo_ethnicity_1', 'demo_ethnicity_2', 'demo_ethnicity_3',\n",
    "       'demo_ethnicity_4', 'demo_ethnicity_5', 'demo_ethnicity_6',\n",
    "       'demo_ethnicity_99', 'demo_gender_1', 'demo_gender_2', 'demo_gender_99',\n",
    "       'demo_income', 'demo_education', 'demo_legal', 'demo_employment___1',\n",
    "       'demo_employment___2', 'demo_employment___3', 'demo_employment___4',\n",
    "       'demo_employment___5', 'demo_employment___6', 'demo_employment___7',\n",
    "       'demo_employment___8', 'demo_employment___9', 'demo_employment___99',\n",
    "       'demo_disability', 'demo_marital', 'mh_accident', 'mh_pain_duration',\n",
    "       'promis_pi_01', 'promis_pi_02', 'promis_pi_03', 'opioid_years_v2',\n",
    "       'meds_more_v2', 'PainInT', 'AngerT', 'AnxietyT', 'DepressT', 'FatigueT',\n",
    "       'GlobalpT', 'GlobalmT', 'PhyFxT', 'SleepDisT', 'audittot', 'AUDITpos',\n",
    "       'pcstotal', 'pcs_help', 'pcs_rum', 'pcs_mag', 'dasttot', 'c_eactotl',\n",
    "       'aeqtot', 'ctq_emo_abu', 'ctq_phy_abu', 'ctq_emo_neg', 'ctq_phy_neg',\n",
    "       'ctq_sex_abu', 'ctqtot', 'mh_psychological_yes_binary']\n",
    "\n",
    "# rename and collapse columns\n",
    "\n",
    "\n",
    "rename_dict = {'k23_age': 'age', \n",
    "              'demo_hispanic': 'Hispanic', \n",
    "              'demo_ethnicity_1':'Asian',\n",
    "              'demo_ethnicity_2':'Caucasian', \n",
    "              'demo_ethnicity_3':'NativeHawaiian', \n",
    "              'demo_ethnicity_4':'Black', \n",
    "              'demo_ethnicity_5':'AmericanIndian', \n",
    "              'demo_ethnicity_6':'MoreThanOneRace', \n",
    "              'demo_ethnicity_99':'OtherEthnicity',\n",
    "              'demo_income':'income', 'demo_education':'education',\n",
    "              'demo_legal':'legal', \n",
    "              'demo_gender_1': 'male', 'demo_gender_2': 'female', 'demo_gender_99':'OtherGender',\n",
    "              'demo_employment___1':'part_time', 'demo_employment___2':'full_time',\n",
    "              'demo_employment___3':'not_employed', 'demo_employment___4':'homemaker',\n",
    "              'demo_employment___5':'temp_unemployed',\n",
    "              'demo_employment___6':'unemployed', 'demo_employment___7':'looking_unemployed',\n",
    "              'demo_employment___8':'disabled', 'demo_employment___9':'retired',\n",
    "              'demo_employment___99':'OtherEmployment', 'demo_disability':'disability',\n",
    "              'demo_marital':'marital', 'opioid_years_v2': 'opioid_years', 'meds_more_v2':'meds_more',\n",
    "              'mh_accident':'accident', 'mh_pain_duration':'pain_duration', 'mh_psychological_yes_binary':'psychological_treatment_yes',\n",
    "              'promis_pi_01':'past_pain_intensity', 'promis_pi_02':'worst_pain_intensity', 'promis_pi_03':'current_pain_intensity',\n",
    "              'PainInT':'PainInterference', 'AngerT':'Anger', 'AnxietyT':'Anxiety', 'DepressT':'Depression', 'FatigueT':'Fatigue',\n",
    "              'GlobalpT':'GlobalPhysical', 'GlobalmT':'GlobalMental', 'PhyFxT':'PhysicalFunction', 'SleepDisT':'SleepDisturbance',\n",
    "              'audittot':'AlcoholUseScore', 'AUDITpos':'AlcoholUserBinary', \n",
    "              'pcstotal':'PCS_total', 'pcs_help':'PCS_helplessness', 'pcs_rum':'PCS_rumination', 'pcs_mag':'PCS_magnification',\n",
    "              'dasttot':'DrugUseScore', 'c_eactotl':'CocaineUseScore', 'aeqtot':'AmbivalenceEmotion',\n",
    "              'ctqtot': 'CTQ_total', 'ctq_emo_abu':'CTQ_EmotionalAbuse', 'ctq_phy_abu':'CTQ_PhysicalAbuse', 'ctq_emo_neg':'CTQ_EmotionalNeglect', 'ctq_phy_neg':'CTQ_PhysicalNeglect','ctq_sex_abu':'CTQ_SexualAbuse'}\n",
    "\n",
    "df = df.rename(columns=rename_dict)\n",
    "df.head()"
   ]
  },
  {
   "cell_type": "code",
   "execution_count": null,
   "id": "ad91cdf1",
   "metadata": {},
   "outputs": [],
   "source": [
    "# collapse the columns\n",
    "\n",
    "\n",
    "# 1. White (coded =1 ) vs non-White (0)\n",
    "df['White'] = df['Caucasian'].apply(lambda x: 1 if x == 1 else 0)\n",
    "\n",
    "# 2. Female (1) vs the others\n",
    "df['Female'] = df['female'].apply(lambda x: 1 if x == 1 else 0)\n",
    "\n",
    "# 5. married/partnered (1) vs the others \n",
    "df['Married'] = df['marital'].apply(lambda x: 0 if x==1 or x ==6 else 1)\n",
    "\n",
    "# 6. Not employed (1) vs the others\n",
    "df['Not_employed'] = df.apply(lambda row: 0 if (row['full_time'] == 1 or row['part_time'] == 1) else 1, axis=1)\n",
    "\n",
    "\n"
   ]
  },
  {
   "cell_type": "code",
   "execution_count": null,
   "id": "ffc3b523",
   "metadata": {},
   "outputs": [],
   "source": [
    "# drop for collapsed deomographic variables\n",
    "columns_to_drop = [\n",
    "   'male', 'female', \n",
    "   'Caucasian', 'Asian', 'NativeHawaiian', 'Black', 'AmericanIndian', 'MoreThanOneRace', 'OtherEthnicity', 'MoreThanOneRace',\n",
    "   'legal', 'marital', 'accident', 'OtherGender', 'psychological_treatment_yes', 'AlcoholUserBinary', 'ouddx', 'commpos', 'past_pain_intensity','meds_more', \n",
    "   'part_time', 'full_time', 'not_employed', 'homemaker', 'temp_unemployed', 'unemployed', 'looking_unemployed', 'disabled', 'retired', 'OtherEmployment'\n",
    "   ]\n",
    "\n",
    "df.drop(columns=columns_to_drop, inplace=True)\n",
    "df"
   ]
  },
  {
   "cell_type": "code",
   "execution_count": null,
   "id": "c1c881d3",
   "metadata": {},
   "outputs": [],
   "source": [
    "df.columns"
   ]
  },
  {
   "cell_type": "code",
   "execution_count": null,
   "id": "574e4037",
   "metadata": {},
   "outputs": [],
   "source": [
    "len(df.columns)"
   ]
  },
  {
   "cell_type": "code",
   "execution_count": null,
   "id": "33b1e86c",
   "metadata": {},
   "outputs": [],
   "source": [
    "# save df\n",
    "df.to_csv(data_dir + 'M_K23_ML_reduced_imputed_collapsed.csv', index=False)"
   ]
  },
  {
   "cell_type": "code",
   "execution_count": null,
   "id": "826103ef",
   "metadata": {},
   "outputs": [],
   "source": []
  }
 ],
 "metadata": {
  "kernelspec": {
   "display_name": "Python 3",
   "language": "python",
   "name": "python3"
  },
  "language_info": {
   "codemirror_mode": {
    "name": "ipython",
    "version": 3
   },
   "file_extension": ".py",
   "mimetype": "text/x-python",
   "name": "python",
   "nbconvert_exporter": "python",
   "pygments_lexer": "ipython3",
   "version": "3.9.18"
  }
 },
 "nbformat": 4,
 "nbformat_minor": 5
}
